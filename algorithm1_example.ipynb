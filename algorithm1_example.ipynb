{
 "cells": [
  {
   "cell_type": "code",
   "execution_count": null,
   "metadata": {},
   "outputs": [],
   "source": [
    "import numpy as np\n",
    "from algorithm1 import bisection1"
   ]
  },
  {
   "cell_type": "markdown",
   "metadata": {},
   "source": [
    "# Bisection Algorithm 1"
   ]
  },
  {
   "cell_type": "code",
   "execution_count": null,
   "metadata": {},
   "outputs": [],
   "source": [
    "function_calls = 0\n",
    "\n",
    "# function F.\n",
    "def F(x):\n",
    "    # Count the function calls.\n",
    "    global function_calls\n",
    "    function_calls += 1\n",
    "    [x1,x2] = x\n",
    "\n",
    "    # The function.\n",
    "    f1 = 1.0/2.0 * np.sin(x1*x2) - x2/(4*np.pi) - x1/2.0\n",
    "    f2 = (1.0 - 1.0/(4*np.pi))*(np.exp(2*x1)- np.e) + np.e*x2/np.pi - 2*np.e*x1\n",
    "    return np.array([f1, f2])\n",
    "\n",
    "# Jacobian matrix of F.\n",
    "def dF(x):\n",
    "    [x1,x2] = x\n",
    "    return np.array(\n",
    "        [\n",
    "            [1.0/2.0 * np.cos(x1*x2) * x2 - 1.0/2.0, 1.0/2.0 * np.cos(x1*x2) * x1 - 1.0/(4*np.pi)],\n",
    "            [(1 - 1 / (4*np.pi)) * 2 * np.exp(2*x1) - 2 * np.e, np.e / np.pi]\n",
    "        ]\n",
    ")\n",
    "\n",
    "# Initial box.\n",
    "K_init = ((0.4, 0.55), (3.0, 3.5))\n",
    "\n",
    "# Apply bisection algorithm 1.\n",
    "x0 = bisection1(F, dF, K_init, 1e-15)\n",
    "print(x0)\n",
    "print(f\"function calls: {function_calls}\")"
   ]
  },
  {
   "cell_type": "markdown",
   "metadata": {},
   "source": [
    "# Comparison to other algorithms"
   ]
  },
  {
   "cell_type": "code",
   "execution_count": null,
   "metadata": {},
   "outputs": [],
   "source": [
    "import scipy.optimize\n",
    "\n",
    "solution = scipy.optimize.root(F, [0.55, 3.0], jac=dF, tol=1e-15)\n",
    "print(solution)"
   ]
  }
 ],
 "metadata": {
  "kernelspec": {
   "display_name": "base",
   "language": "python",
   "name": "python3"
  },
  "language_info": {
   "codemirror_mode": {
    "name": "ipython",
    "version": 3
   },
   "file_extension": ".py",
   "mimetype": "text/x-python",
   "name": "python",
   "nbconvert_exporter": "python",
   "pygments_lexer": "ipython3",
   "version": "3.10.12"
  }
 },
 "nbformat": 4,
 "nbformat_minor": 2
}
