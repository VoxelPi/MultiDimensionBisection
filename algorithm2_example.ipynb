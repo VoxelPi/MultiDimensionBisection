{
 "cells": [
  {
   "cell_type": "code",
   "execution_count": null,
   "metadata": {},
   "outputs": [],
   "source": [
    "import numpy as np\n",
    "from algorithm2 import bisection2\n",
    "import matplotlib.pyplot as plt\n",
    "\n",
    "%matplotlib widget\n",
    "\n",
    "plt.close(\"all\")"
   ]
  },
  {
   "cell_type": "code",
   "execution_count": null,
   "metadata": {},
   "outputs": [],
   "source": [
    "# Example function\n",
    "def F(x):\n",
    "    return np.array([(x[0] - 0.5)**2 - 4*(x[1] - 0.1), (x[1] - 0.1)**2 - 2*(x[0] - 0.5) + 4*(x[1] - 0.1)])\n",
    "\n",
    "initial_boundary = np.array([\n",
    "    [-0.5,   0.25], #1\n",
    "    [-2.0,   0.25], #2\n",
    "    [-2.0,  -0.25], #3\n",
    "    [ 0.75, -0.25], #4\n",
    "    [ 2.0,  -0.25], #5\n",
    "    [ 2.0,   0.25], #6\n",
    "    [ 0.75,  0.25], #7\n",
    "])\n",
    "\n",
    "(x,_,_, triangles) = bisection2(F, initial_boundary, epsilon=0.001)\n",
    "\n",
    "root = (x[0] + x[1] + x[2])/3\n",
    "print(f\"x={root[0]} y={root[1]}\")"
   ]
  },
  {
   "cell_type": "code",
   "execution_count": null,
   "metadata": {},
   "outputs": [],
   "source": [
    "from scipy.spatial import Delaunay\n",
    "tri = Delaunay(initial_boundary)\n",
    "plt.figure()\n",
    "plt.triplot(initial_boundary[:,0], initial_boundary[:,1], tri.simplices)\n",
    "plt.scatter(root[0], root[1], label=\"root\", color=\"red\")\n",
    "plt.grid()\n",
    "plt.show()"
   ]
  },
  {
   "cell_type": "code",
   "execution_count": null,
   "metadata": {},
   "outputs": [],
   "source": [
    "# print(triangles)\n",
    "\n",
    "plt.figure()\n",
    "for triangle in triangles:\n",
    "    looped_vertices = np.vstack([triangle, triangle[0]])\n",
    "    x, y = looped_vertices[:, 0], looped_vertices[:, 1]\n",
    "    plt.plot(x, y)\n",
    "plt.grid()\n",
    "plt.scatter(root[0], root[1], label=\"root\", color=\"red\")\n",
    "plt.show()"
   ]
  }
 ],
 "metadata": {
  "kernelspec": {
   "display_name": "base",
   "language": "python",
   "name": "python3"
  },
  "language_info": {
   "codemirror_mode": {
    "name": "ipython",
    "version": 3
   },
   "file_extension": ".py",
   "mimetype": "text/x-python",
   "name": "python",
   "nbconvert_exporter": "python",
   "pygments_lexer": "ipython3",
   "version": "3.10.12"
  }
 },
 "nbformat": 4,
 "nbformat_minor": 2
}
