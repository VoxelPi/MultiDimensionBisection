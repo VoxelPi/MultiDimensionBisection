{
 "cells": [
  {
   "cell_type": "code",
   "execution_count": null,
   "metadata": {},
   "outputs": [],
   "source": [
    "import numpy as np\n",
    "from numpy.typing import NDArray\n",
    "from algorithm3 import construct_admissible_polygon,bisection3\n",
    "import matplotlib.pyplot as plt\n",
    "\n",
    "%matplotlib widget\n",
    "\n",
    "plt.close(\"all\")"
   ]
  },
  {
   "cell_type": "code",
   "execution_count": null,
   "metadata": {},
   "outputs": [],
   "source": [
    "n = 2\n",
    "def F(x: NDArray[np.floating]) -> NDArray[np.floating]:\n",
    "    return np.array([x[0]**2 - 4*(x[1] - 1), (x[1] - 1)**2 - 2*x[0] + 4*(x[1] - 1)])\n",
    "x0 = np.array([-2, 0.75])\n",
    "h0 = np.array([4, 0.5])\n",
    "\n",
    "P = construct_admissible_polygon(F, 1e-2, x0, h0)\n",
    "print(f\"Initial admissible polygon:\\n{P}\")\n",
    "\n",
    "root = bisection3(F, n, P, 1e-6)\n",
    "print(f\"Found root x={root[0]:.3} y={root[1]:.3}\")"
   ]
  },
  {
   "cell_type": "code",
   "execution_count": null,
   "metadata": {},
   "outputs": [],
   "source": [
    "plt.figure()\n",
    "plt.scatter(P[:,0], P[:,1])\n",
    "plt.scatter(root[0], root[1])\n",
    "plt.grid()\n",
    "plt.show()"
   ]
  }
 ],
 "metadata": {
  "kernelspec": {
   "display_name": "base",
   "language": "python",
   "name": "python3"
  },
  "language_info": {
   "codemirror_mode": {
    "name": "ipython",
    "version": 3
   },
   "file_extension": ".py",
   "mimetype": "text/x-python",
   "name": "python",
   "nbconvert_exporter": "python",
   "pygments_lexer": "ipython3",
   "version": "3.10.12"
  }
 },
 "nbformat": 4,
 "nbformat_minor": 2
}
